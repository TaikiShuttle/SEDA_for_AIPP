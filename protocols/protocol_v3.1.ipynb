{
 "cells": [
  {
   "cell_type": "code",
   "execution_count": 1,
   "metadata": {},
   "outputs": [],
   "source": [
    "import pandas as pd"
   ]
  },
  {
   "attachments": {},
   "cell_type": "markdown",
   "metadata": {},
   "source": [
    "# General Description"
   ]
  },
  {
   "attachments": {},
   "cell_type": "markdown",
   "metadata": {},
   "source": [
    "In our study, you will be asked to finish three exploratory data analysis tasks using GitHub Copilot. In each task, the number of quries/comments you can use is different. "
   ]
  },
  {
   "attachments": {},
   "cell_type": "markdown",
   "metadata": {},
   "source": [
    "### Before you begin, attention!\n",
    "\n",
    "- You can only use comment and auto-fill functions of Github Copilot to solve the task. \n",
    "- You can also fix small bugs like wrong variable name or wrong list index. \n",
    "- You can change the comment to generate new code as well.\n",
    "- You cannot, however, write codes by yourself instead of using comment to generate. If you are not sure whether your action is permitted, please just ask us.\n",
    "- Due to study requirement, we can only answer questions about the problem setting. We cannot answer questions about how to actually solve the problem. We may show you our solutions at the end of the task.\n",
    "- The time limit for each part is **15 minutes**. If you believe that you have already finished the task before the time limit, or you feel that spending more time will not help you solve the problem, you can just tell us and move on. There is no need to worry about that.\n",
    "- We encourage you to **think aloud** during the programming process, which will help us to know what users are thinking when using GitHub Copilot."
   ]
  },
  {
   "attachments": {},
   "cell_type": "markdown",
   "metadata": {},
   "source": [
    "# Task 1"
   ]
  },
  {
   "attachments": {},
   "cell_type": "markdown",
   "metadata": {},
   "source": [
    "### Load data"
   ]
  },
  {
   "cell_type": "code",
   "execution_count": 2,
   "metadata": {},
   "outputs": [
    {
     "data": {
      "text/html": [
       "<div>\n",
       "<style scoped>\n",
       "    .dataframe tbody tr th:only-of-type {\n",
       "        vertical-align: middle;\n",
       "    }\n",
       "\n",
       "    .dataframe tbody tr th {\n",
       "        vertical-align: top;\n",
       "    }\n",
       "\n",
       "    .dataframe thead th {\n",
       "        text-align: right;\n",
       "    }\n",
       "</style>\n",
       "<table border=\"1\" class=\"dataframe\">\n",
       "  <thead>\n",
       "    <tr style=\"text-align: right;\">\n",
       "      <th></th>\n",
       "      <th>timestamp</th>\n",
       "      <th>close_equity</th>\n",
       "      <th>user_id</th>\n",
       "    </tr>\n",
       "  </thead>\n",
       "  <tbody>\n",
       "    <tr>\n",
       "      <th>0</th>\n",
       "      <td>2016-11-16T00:00:00Z</td>\n",
       "      <td>48.16</td>\n",
       "      <td>bcef4fa9b0bdf22bcf7deae708decf03</td>\n",
       "    </tr>\n",
       "    <tr>\n",
       "      <th>1</th>\n",
       "      <td>2016-11-17T00:00:00Z</td>\n",
       "      <td>48.16</td>\n",
       "      <td>bcef4fa9b0bdf22bcf7deae708decf03</td>\n",
       "    </tr>\n",
       "    <tr>\n",
       "      <th>2</th>\n",
       "      <td>2016-11-18T00:00:00Z</td>\n",
       "      <td>48.16</td>\n",
       "      <td>bcef4fa9b0bdf22bcf7deae708decf03</td>\n",
       "    </tr>\n",
       "    <tr>\n",
       "      <th>3</th>\n",
       "      <td>2016-11-21T00:00:00Z</td>\n",
       "      <td>48.16</td>\n",
       "      <td>bcef4fa9b0bdf22bcf7deae708decf03</td>\n",
       "    </tr>\n",
       "    <tr>\n",
       "      <th>4</th>\n",
       "      <td>2016-11-22T00:00:00Z</td>\n",
       "      <td>48.16</td>\n",
       "      <td>bcef4fa9b0bdf22bcf7deae708decf03</td>\n",
       "    </tr>\n",
       "  </tbody>\n",
       "</table>\n",
       "</div>"
      ],
      "text/plain": [
       "              timestamp  close_equity                           user_id\n",
       "0  2016-11-16T00:00:00Z         48.16  bcef4fa9b0bdf22bcf7deae708decf03\n",
       "1  2016-11-17T00:00:00Z         48.16  bcef4fa9b0bdf22bcf7deae708decf03\n",
       "2  2016-11-18T00:00:00Z         48.16  bcef4fa9b0bdf22bcf7deae708decf03\n",
       "3  2016-11-21T00:00:00Z         48.16  bcef4fa9b0bdf22bcf7deae708decf03\n",
       "4  2016-11-22T00:00:00Z         48.16  bcef4fa9b0bdf22bcf7deae708decf03"
      ]
     },
     "execution_count": 2,
     "metadata": {},
     "output_type": "execute_result"
    }
   ],
   "source": [
    "df1 = pd.read_csv('equity_value_data.csv')\n",
    "df1.head()"
   ]
  },
  {
   "attachments": {},
   "cell_type": "markdown",
   "metadata": {},
   "source": [
    "### Task Description"
   ]
  },
  {
   "attachments": {},
   "cell_type": "markdown",
   "metadata": {},
   "source": [
    "This data set contains information for investors with their equity in an online trading platform A. You can see that there are three columns in the data set. The `timestamp` indicates the when the record is written. The `close_equity` means the close equity of that user in a particular day. The `user_id` is the unique identifier of the user. Note that this data set **only records timestamps with `close_equity > 10`**, and thus you can find that the timestamps are not consecutive for some users. We call the missing timestamp period **`inactive period`**. In this task, you need to find out the percentage of users who have a consecutive `inactive period` longer than 28 days."
   ]
  },
  {
   "attachments": {},
   "cell_type": "markdown",
   "metadata": {},
   "source": [
    "### Example\n",
    "| timestamp            | close_equity | user_id                          |\n",
    "|----------------------|--------------|----------------------------------|\n",
    "| 2016-10-16T00:00:00Z | 48.16        | bcef4fa9b0bdf22bcf7deae708decf03 |\n",
    "| 2016-10-17T00:00:00Z | 48.16        | bcef4fa9b0bdf22bcf7deae708decf03 |\n",
    "| 2016-12-29T00:00:00Z | 48.16        | bcef4fa9b0bdf22bcf7deae708decf03 |\n",
    "| 2016-10-16T00:00:00Z | 22.34        | 3276897f94d72719b16f1648f7166384 |\n",
    "| 2016-10-17T00:00:00Z | 25.68        | 3276897f94d72719b16f1648f7166384 |\n",
    "| 2016-11-01T00:00:00Z | 34.22        | 3276897f94d72719b16f1648f7166384 |\n",
    "\n",
    "The answer for this example is 50%.\n",
    "\n",
    "In this table, the user with id `bcef4fa9b0bdf22bcf7deae708decf03` has a consecutive inactive period longer than 28 days between `2016-10-17` to `2016-12-29`. While the user with id `3276897f94d72719b16f1648f7166384` does not have a consecutive inactive period longer than 28 days. "
   ]
  },
  {
   "attachments": {},
   "cell_type": "markdown",
   "metadata": {},
   "source": [
    "### Assume that you are not familiar with data analytics at all, and you can only describe the question to Copilot and hope it can help you out. Now, please try to solve the problem by just using **one** prompt/comment (can be multiple sentences) and let the Github Copilot finish the rest of work. Do not be afraid if you fail."
   ]
  },
  {
   "cell_type": "code",
   "execution_count": null,
   "metadata": {},
   "outputs": [],
   "source": []
  },
  {
   "attachments": {},
   "cell_type": "markdown",
   "metadata": {},
   "source": [
    "# Task 2"
   ]
  },
  {
   "attachments": {},
   "cell_type": "markdown",
   "metadata": {},
   "source": [
    "### Load Data"
   ]
  },
  {
   "cell_type": "code",
   "execution_count": 4,
   "metadata": {},
   "outputs": [
    {
     "data": {
      "text/html": [
       "<div>\n",
       "<style scoped>\n",
       "    .dataframe tbody tr th:only-of-type {\n",
       "        vertical-align: middle;\n",
       "    }\n",
       "\n",
       "    .dataframe tbody tr th {\n",
       "        vertical-align: top;\n",
       "    }\n",
       "\n",
       "    .dataframe thead th {\n",
       "        text-align: right;\n",
       "    }\n",
       "</style>\n",
       "<table border=\"1\" class=\"dataframe\">\n",
       "  <thead>\n",
       "    <tr style=\"text-align: right;\">\n",
       "      <th></th>\n",
       "      <th>data_dte</th>\n",
       "      <th>Year</th>\n",
       "      <th>Month</th>\n",
       "      <th>usg_apt_id</th>\n",
       "      <th>usg_apt</th>\n",
       "      <th>usg_wac</th>\n",
       "      <th>fg_apt_id</th>\n",
       "      <th>fg_apt</th>\n",
       "      <th>fg_wac</th>\n",
       "      <th>airlineid</th>\n",
       "      <th>carrier</th>\n",
       "      <th>carriergroup</th>\n",
       "      <th>type</th>\n",
       "      <th>Scheduled</th>\n",
       "      <th>Charter</th>\n",
       "      <th>Total</th>\n",
       "    </tr>\n",
       "  </thead>\n",
       "  <tbody>\n",
       "    <tr>\n",
       "      <th>0</th>\n",
       "      <td>05/01/2006</td>\n",
       "      <td>2006</td>\n",
       "      <td>5</td>\n",
       "      <td>12016</td>\n",
       "      <td>GUM</td>\n",
       "      <td>5</td>\n",
       "      <td>13162</td>\n",
       "      <td>MAJ</td>\n",
       "      <td>844</td>\n",
       "      <td>20177</td>\n",
       "      <td>PFQ</td>\n",
       "      <td>1</td>\n",
       "      <td>Departures</td>\n",
       "      <td>0</td>\n",
       "      <td>10</td>\n",
       "      <td>10</td>\n",
       "    </tr>\n",
       "    <tr>\n",
       "      <th>1</th>\n",
       "      <td>04/01/2009</td>\n",
       "      <td>2009</td>\n",
       "      <td>4</td>\n",
       "      <td>10397</td>\n",
       "      <td>ATL</td>\n",
       "      <td>34</td>\n",
       "      <td>16321</td>\n",
       "      <td>ZRH</td>\n",
       "      <td>486</td>\n",
       "      <td>19790</td>\n",
       "      <td>DL</td>\n",
       "      <td>1</td>\n",
       "      <td>Departures</td>\n",
       "      <td>54</td>\n",
       "      <td>0</td>\n",
       "      <td>54</td>\n",
       "    </tr>\n",
       "    <tr>\n",
       "      <th>2</th>\n",
       "      <td>05/01/2003</td>\n",
       "      <td>2003</td>\n",
       "      <td>5</td>\n",
       "      <td>10299</td>\n",
       "      <td>ANC</td>\n",
       "      <td>1</td>\n",
       "      <td>13856</td>\n",
       "      <td>OKO</td>\n",
       "      <td>736</td>\n",
       "      <td>20007</td>\n",
       "      <td>5Y</td>\n",
       "      <td>1</td>\n",
       "      <td>Departures</td>\n",
       "      <td>0</td>\n",
       "      <td>15</td>\n",
       "      <td>15</td>\n",
       "    </tr>\n",
       "    <tr>\n",
       "      <th>3</th>\n",
       "      <td>02/01/2005</td>\n",
       "      <td>2005</td>\n",
       "      <td>2</td>\n",
       "      <td>11057</td>\n",
       "      <td>CLT</td>\n",
       "      <td>36</td>\n",
       "      <td>14849</td>\n",
       "      <td>SKB</td>\n",
       "      <td>275</td>\n",
       "      <td>20355</td>\n",
       "      <td>US</td>\n",
       "      <td>1</td>\n",
       "      <td>Departures</td>\n",
       "      <td>8</td>\n",
       "      <td>0</td>\n",
       "      <td>8</td>\n",
       "    </tr>\n",
       "    <tr>\n",
       "      <th>4</th>\n",
       "      <td>01/01/2004</td>\n",
       "      <td>2004</td>\n",
       "      <td>1</td>\n",
       "      <td>12478</td>\n",
       "      <td>JFK</td>\n",
       "      <td>22</td>\n",
       "      <td>11625</td>\n",
       "      <td>EZE</td>\n",
       "      <td>303</td>\n",
       "      <td>19535</td>\n",
       "      <td>AR</td>\n",
       "      <td>0</td>\n",
       "      <td>Departures</td>\n",
       "      <td>30</td>\n",
       "      <td>0</td>\n",
       "      <td>30</td>\n",
       "    </tr>\n",
       "  </tbody>\n",
       "</table>\n",
       "</div>"
      ],
      "text/plain": [
       "     data_dte  Year  Month  usg_apt_id usg_apt  usg_wac  fg_apt_id fg_apt  \\\n",
       "0  05/01/2006  2006      5       12016     GUM        5      13162    MAJ   \n",
       "1  04/01/2009  2009      4       10397     ATL       34      16321    ZRH   \n",
       "2  05/01/2003  2003      5       10299     ANC        1      13856    OKO   \n",
       "3  02/01/2005  2005      2       11057     CLT       36      14849    SKB   \n",
       "4  01/01/2004  2004      1       12478     JFK       22      11625    EZE   \n",
       "\n",
       "   fg_wac  airlineid carrier  carriergroup        type  Scheduled  Charter  \\\n",
       "0     844      20177     PFQ             1  Departures          0       10   \n",
       "1     486      19790      DL             1  Departures         54        0   \n",
       "2     736      20007      5Y             1  Departures          0       15   \n",
       "3     275      20355      US             1  Departures          8        0   \n",
       "4     303      19535      AR             0  Departures         30        0   \n",
       "\n",
       "   Total  \n",
       "0     10  \n",
       "1     54  \n",
       "2     15  \n",
       "3      8  \n",
       "4     30  "
      ]
     },
     "execution_count": 4,
     "metadata": {},
     "output_type": "execute_result"
    }
   ],
   "source": [
    "df2 = pd.read_csv('International_Report_Departures.csv')\n",
    "df2.head()"
   ]
  },
  {
   "attachments": {},
   "cell_type": "markdown",
   "metadata": {},
   "source": [
    "### Task Description\n",
    "You can see that there are lots of departures records with a variety of fields. We are particularly interested in the `usg_apt` field. This field represents the departure airport in the US. We want to find out the top 10 airport each year from 2019 to 2022 based on number of departures records. And then plot a bar plot with x-axis to be the airport, y-axis to be the number of times it enters top 10."
   ]
  },
  {
   "attachments": {},
   "cell_type": "markdown",
   "metadata": {},
   "source": [
    "### Example"
   ]
  },
  {
   "attachments": {},
   "cell_type": "markdown",
   "metadata": {},
   "source": [
    "![Desired Output](./bar_plot.jpg)"
   ]
  },
  {
   "attachments": {},
   "cell_type": "markdown",
   "metadata": {},
   "source": [
    "### Assume that you are familiar with other data analysis tools like Excel, R or other programming languages. So you know some general steps to solve such problems. But you are not familiar with Python, which prevents you from further breakdown to specific codes. Now, try to break down the problem a little bit, using 3-5 different prompts/comments and let the Copilot finish the rest of work. Don't worry if you fail."
   ]
  },
  {
   "cell_type": "code",
   "execution_count": null,
   "metadata": {},
   "outputs": [],
   "source": []
  },
  {
   "cell_type": "code",
   "execution_count": null,
   "metadata": {},
   "outputs": [],
   "source": []
  },
  {
   "attachments": {},
   "cell_type": "markdown",
   "metadata": {},
   "source": [
    "# Task 3"
   ]
  },
  {
   "attachments": {},
   "cell_type": "markdown",
   "metadata": {},
   "source": [
    "### Load Data"
   ]
  },
  {
   "cell_type": "code",
   "execution_count": 8,
   "metadata": {},
   "outputs": [
    {
     "data": {
      "text/html": [
       "<div>\n",
       "<style scoped>\n",
       "    .dataframe tbody tr th:only-of-type {\n",
       "        vertical-align: middle;\n",
       "    }\n",
       "\n",
       "    .dataframe tbody tr th {\n",
       "        vertical-align: top;\n",
       "    }\n",
       "\n",
       "    .dataframe thead th {\n",
       "        text-align: right;\n",
       "    }\n",
       "</style>\n",
       "<table border=\"1\" class=\"dataframe\">\n",
       "  <thead>\n",
       "    <tr style=\"text-align: right;\">\n",
       "      <th></th>\n",
       "      <th>Rank</th>\n",
       "      <th>Name</th>\n",
       "      <th>Platform</th>\n",
       "      <th>Year</th>\n",
       "      <th>Genre</th>\n",
       "      <th>Publisher</th>\n",
       "      <th>NA_Sales</th>\n",
       "      <th>EU_Sales</th>\n",
       "      <th>JP_Sales</th>\n",
       "      <th>Other_Sales</th>\n",
       "      <th>Global_Sales</th>\n",
       "    </tr>\n",
       "  </thead>\n",
       "  <tbody>\n",
       "    <tr>\n",
       "      <th>0</th>\n",
       "      <td>1</td>\n",
       "      <td>Wii Sports</td>\n",
       "      <td>Wii</td>\n",
       "      <td>2006.0</td>\n",
       "      <td>Sports</td>\n",
       "      <td>Nintendo</td>\n",
       "      <td>41.49</td>\n",
       "      <td>29.02</td>\n",
       "      <td>3.77</td>\n",
       "      <td>8.46</td>\n",
       "      <td>82.74</td>\n",
       "    </tr>\n",
       "    <tr>\n",
       "      <th>1</th>\n",
       "      <td>2</td>\n",
       "      <td>Super Mario Bros.</td>\n",
       "      <td>NES</td>\n",
       "      <td>1985.0</td>\n",
       "      <td>Platform</td>\n",
       "      <td>Nintendo</td>\n",
       "      <td>29.08</td>\n",
       "      <td>3.58</td>\n",
       "      <td>6.81</td>\n",
       "      <td>0.77</td>\n",
       "      <td>40.24</td>\n",
       "    </tr>\n",
       "    <tr>\n",
       "      <th>2</th>\n",
       "      <td>3</td>\n",
       "      <td>Mario Kart Wii</td>\n",
       "      <td>Wii</td>\n",
       "      <td>2008.0</td>\n",
       "      <td>Racing</td>\n",
       "      <td>Nintendo</td>\n",
       "      <td>15.85</td>\n",
       "      <td>12.88</td>\n",
       "      <td>3.79</td>\n",
       "      <td>3.31</td>\n",
       "      <td>35.82</td>\n",
       "    </tr>\n",
       "    <tr>\n",
       "      <th>3</th>\n",
       "      <td>4</td>\n",
       "      <td>Wii Sports Resort</td>\n",
       "      <td>Wii</td>\n",
       "      <td>2009.0</td>\n",
       "      <td>Sports</td>\n",
       "      <td>Nintendo</td>\n",
       "      <td>15.75</td>\n",
       "      <td>11.01</td>\n",
       "      <td>3.28</td>\n",
       "      <td>2.96</td>\n",
       "      <td>33.00</td>\n",
       "    </tr>\n",
       "    <tr>\n",
       "      <th>4</th>\n",
       "      <td>5</td>\n",
       "      <td>Pokemon Red/Pokemon Blue</td>\n",
       "      <td>GB</td>\n",
       "      <td>1996.0</td>\n",
       "      <td>Role-Playing</td>\n",
       "      <td>Nintendo</td>\n",
       "      <td>11.27</td>\n",
       "      <td>8.89</td>\n",
       "      <td>10.22</td>\n",
       "      <td>1.00</td>\n",
       "      <td>31.37</td>\n",
       "    </tr>\n",
       "  </tbody>\n",
       "</table>\n",
       "</div>"
      ],
      "text/plain": [
       "   Rank                      Name Platform    Year         Genre Publisher  \\\n",
       "0     1                Wii Sports      Wii  2006.0        Sports  Nintendo   \n",
       "1     2         Super Mario Bros.      NES  1985.0      Platform  Nintendo   \n",
       "2     3            Mario Kart Wii      Wii  2008.0        Racing  Nintendo   \n",
       "3     4         Wii Sports Resort      Wii  2009.0        Sports  Nintendo   \n",
       "4     5  Pokemon Red/Pokemon Blue       GB  1996.0  Role-Playing  Nintendo   \n",
       "\n",
       "   NA_Sales  EU_Sales  JP_Sales  Other_Sales  Global_Sales  \n",
       "0     41.49     29.02      3.77         8.46         82.74  \n",
       "1     29.08      3.58      6.81         0.77         40.24  \n",
       "2     15.85     12.88      3.79         3.31         35.82  \n",
       "3     15.75     11.01      3.28         2.96         33.00  \n",
       "4     11.27      8.89     10.22         1.00         31.37  "
      ]
     },
     "execution_count": 8,
     "metadata": {},
     "output_type": "execute_result"
    }
   ],
   "source": [
    "df3 = pd.read_csv('vgsales.csv')\n",
    "df3.head()"
   ]
  },
  {
   "attachments": {},
   "cell_type": "markdown",
   "metadata": {},
   "source": [
    "### Task Description\n",
    "\n",
    "In this data set, there are records showing the sales of popular video games. We are interested in the `Platform` column, which indicates the platform of the game. We want to check whether multi-platform games have a higher `Global_Sales` than those single-platform games."
   ]
  },
  {
   "attachments": {},
   "cell_type": "markdown",
   "metadata": {},
   "source": [
    "### Example\n",
    "\n",
    "| Name                 | Platform     | Global_Sales                     |\n",
    "|----------------------|--------------|----------------------------------|\n",
    "| A                    | PC           | 80                               |\n",
    "| B                    | PS4          | 65                               |\n",
    "| B                    | PC           | 25                               |\n",
    "| C                    | PS4          | 70                               |\n",
    "| C                    | PC           | 10                               |\n",
    "\n",
    "In this example, overall sales of `B` is 90, overall sales of `C` is 80. And the average multi-platform sales is indeed better on average than single-platform sales.\n"
   ]
  },
  {
   "attachments": {},
   "cell_type": "markdown",
   "metadata": {},
   "source": [
    " ### Assume that you are quite familiar with data analysis using Python, and you know exactly what each step should do (which is likely for our participants). Now, try to break down the problem into as many sub-steps as you want. Writing corresponding prompts and letting the Copilot generate code for you. Don't worry if you fail."
   ]
  },
  {
   "cell_type": "code",
   "execution_count": null,
   "metadata": {},
   "outputs": [],
   "source": []
  },
  {
   "cell_type": "code",
   "execution_count": null,
   "metadata": {},
   "outputs": [],
   "source": []
  },
  {
   "cell_type": "code",
   "execution_count": null,
   "metadata": {},
   "outputs": [],
   "source": []
  }
 ],
 "metadata": {
  "kernelspec": {
   "display_name": "Python 3",
   "language": "python",
   "name": "python3"
  },
  "language_info": {
   "codemirror_mode": {
    "name": "ipython",
    "version": 3
   },
   "file_extension": ".py",
   "mimetype": "text/x-python",
   "name": "python",
   "nbconvert_exporter": "python",
   "pygments_lexer": "ipython3",
   "version": "3.8.10 (default, Nov 14 2022, 12:59:47) \n[GCC 9.4.0]"
  },
  "orig_nbformat": 4,
  "vscode": {
   "interpreter": {
    "hash": "916dbcbb3f70747c44a77c7bcd40155683ae19c65e1c03b4aa3499c5328201f1"
   }
  }
 },
 "nbformat": 4,
 "nbformat_minor": 2
}
